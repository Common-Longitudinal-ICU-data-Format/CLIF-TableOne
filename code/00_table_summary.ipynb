{
 "cells": [
  {
   "cell_type": "code",
   "execution_count": null,
   "metadata": {},
   "outputs": [],
   "source": [
    "import pandas as pd\n",
    "import numpy as np\n",
    "import os\n",
    "import json\n",
    "from collections import defaultdict\n",
    "from tableone import TableOne\n",
    "from great_tables import GT, html, style, loc"
   ]
  },
  {
   "cell_type": "markdown",
   "metadata": {},
   "source": [
    "# Read tables"
   ]
  },
  {
   "cell_type": "code",
   "execution_count": null,
   "metadata": {},
   "outputs": [],
   "source": [
    "# folder\n",
    "input_path = \"your path\"\n",
    "\n",
    "# file\n",
    "adt = pd.read_parquet(os.path.join(input_path, \"clif_adt.parquet\"))\n",
    "hosp = pd.read_parquet(os.path.join(input_path, \"clif_hospitalization.parquet\"))\n",
    "patient = pd.read_parquet(os.path.join(input_path, \"clif_patient.parquet\"))\n",
    "labs = pd.read_parquet(os.path.join(input_path, \"clif_labs.parquet\"))\n",
    "meds = pd.read_parquet(os.path.join(input_path, \"clif_medication_admin_continuous.parquet\"))\n",
    "vitals = pd.read_parquet(os.path.join(input_path, \"clif_vitals.parquet\"))\n",
    "resp = pd.read_parquet(os.path.join(input_path, \"clif_respiratory_support.parquet\"))\n",
    "prone = pd.read_parquet(os.path.join(input_path, \"clif_position.parquet\"))\n",
    "gcs = pd.read_parquet(os.path.join(input_path, \"clif_patient_assessments.parquet\"))\n",
    "covid = pd.read_parquet(os.path.join(input_path, \"clif_microbiology_nonculture.parquet\"))"
   ]
  },
  {
   "cell_type": "code",
   "execution_count": null,
   "metadata": {},
   "outputs": [],
   "source": [
    "# output path\n",
    "parent_folder = os.path.dirname(os.getcwd())\n",
    "folder_path = os.path.join(parent_folder, \"data\")\n",
    "os.makedirs(folder_path, exist_ok=True)"
   ]
  },
  {
   "cell_type": "markdown",
   "metadata": {},
   "source": [
    "# 1. Table schema summary"
   ]
  },
  {
   "cell_type": "code",
   "execution_count": null,
   "metadata": {},
   "outputs": [],
   "source": [
    "tables_dict = {\n",
    "    'hospitalization': hosp,\n",
    "    'patient': patient,\n",
    "    'adt': adt,\n",
    "    'labs': labs,\n",
    "    'medication_admin_continuous': meds,\n",
    "    'vitals': vitals,\n",
    "    'respiratory_support': resp,\n",
    "    'position': prone,\n",
    "    'patient_assessments': gcs,\n",
    "    'microbiology_nonculture': covid\n",
    "}"
   ]
  },
  {
   "cell_type": "code",
   "execution_count": null,
   "metadata": {},
   "outputs": [],
   "source": [
    "def table_summary(table_name, table, hosp, year_start, year_end):\n",
    "    summary = defaultdict(dict)\n",
    "    print(table_name)\n",
    "\n",
    "    # overall\n",
    "    summary[table_name][f'{year_start}-{year_end}'] = {\n",
    "            \"row_count\": len(table),\n",
    "            \"column_count\": len(table.columns),\n",
    "            \"columns\": list(table.columns),\n",
    "            \"patient_count\": int(table['patient_id'].nunique()) if 'patient_id' in table.columns else None,\n",
    "            \"hospitalization_count\": int(table['hospitalization_id'].nunique()) if 'hospitalization_id' in table.columns else None,\n",
    "        }\n",
    "\n",
    "    # each year\n",
    "    for y in range(year_start, year_end+1, 1):\n",
    "        if table_name == 'microbiology_nonculture':\n",
    "            table['admission_date'] = pd.to_datetime(table['admission_date'])\n",
    "            table_sub = table[table['admission_date'].dt.year.eq(y)]\n",
    "        else:\n",
    "            hosp_id = hosp.loc[hosp['admission_dttm'].dt.year.eq(y), 'hospitalization_id'].unique()\n",
    "            pat_id = hosp.loc[hosp['admission_dttm'].dt.year.eq(y), 'patient_id'].unique()\n",
    "\n",
    "            if 'hospitalization_id' not in table.columns:\n",
    "                table_sub = table[table['patient_id'].isin(pat_id)]\n",
    "            else:\n",
    "                table_sub = table[table['hospitalization_id'].isin(hosp_id)]\n",
    "\n",
    "        summary[table_name][y] = {\n",
    "            \"row_count\": len(table_sub),\n",
    "            \"column_count\": len(table_sub.columns),\n",
    "            \"patient_count\": int(table_sub['patient_id'].nunique()) if 'patient_id' in table_sub.columns else None,\n",
    "            \"hospitalization_count\": int(table_sub['hospitalization_id'].nunique()) if 'hospitalization_id' in table_sub.columns else None,\n",
    "        }\n",
    "    return summary\n",
    "\n"
   ]
  },
  {
   "cell_type": "markdown",
   "metadata": {},
   "source": [
    "## create yearly summary json file"
   ]
  },
  {
   "cell_type": "code",
   "execution_count": null,
   "metadata": {},
   "outputs": [],
   "source": [
    "summary_all = defaultdict(dict)\n",
    "year_start = 2018\n",
    "year_end = 2024\n",
    "\n",
    "for key, values in tables_dict.items():\n",
    "    summary = table_summary(key, values, hosp, year_start, year_end)\n",
    "    summary_all.update(summary)\n"
   ]
  },
  {
   "cell_type": "code",
   "execution_count": null,
   "metadata": {},
   "outputs": [],
   "source": [
    "# save json file for records\n",
    "with open(\"../data/table_summary_by_year.json\", \"w\") as f:\n",
    "    json.dump(summary_all, f, indent=4)"
   ]
  },
  {
   "cell_type": "markdown",
   "metadata": {},
   "source": [
    "## create summary df"
   ]
  },
  {
   "cell_type": "code",
   "execution_count": null,
   "metadata": {},
   "outputs": [],
   "source": [
    "records = []\n",
    "for table_name, year_dict in summary_all.items():\n",
    "    for year, summary in year_dict.items():\n",
    "        row = {'table': table_name, 'year': year}\n",
    "        row.update(summary)\n",
    "        records.append(row)\n",
    "\n",
    "# Create summary df\n",
    "df_summary = pd.DataFrame(records)\n",
    "\n",
    "# Get overall year data\n",
    "df_summary = df_summary[df_summary['year'].eq('2018-2024')]\n",
    "cols = [c for c in df_summary if c not in ['columns', 'year']]\n",
    "df_summary = df_summary[cols]\n",
    "df_summary.rename(columns={\n",
    "    'table': 'Table Name ',\n",
    "    'row_count': 'Total Rows',\n",
    "    'column_count': 'Total Columns',\n",
    "    'patient_count': 'Unique Patients',\n",
    "    'hospitalization_count': 'Unique Hospitalizations'\n",
    "}, inplace=True)"
   ]
  },
  {
   "cell_type": "code",
   "execution_count": null,
   "metadata": {},
   "outputs": [],
   "source": [
    "# create great-table\n",
    "gt = (\n",
    "    GT(df_summary)\n",
    "    .tab_header(title=\"Year\", subtitle=\"2018-01-01 to 2024-12-31\")\n",
    "    .opt_horizontal_padding(scale=2)\n",
    "    .fmt_number(columns=['Total Rows','Unique Patients', 'Unique Hospitalizations'], decimals=0)\n",
    ")\n",
    "\n",
    "gt.show()\n",
    "\n",
    "# # save table\n",
    "# gt.write_raw_html(\"../data/table_cummary_overall.html\")"
   ]
  },
  {
   "cell_type": "markdown",
   "metadata": {},
   "source": [
    "# 2. Demographic summary"
   ]
  },
  {
   "cell_type": "markdown",
   "metadata": {},
   "source": [
    "### create each year summary table"
   ]
  },
  {
   "cell_type": "markdown",
   "metadata": {},
   "source": [
    "simple demographic summary\n",
    "- hospitalization that has icu stay, what's their demographic statistics\n",
    "- how many patient required ventilation\n",
    "- how many patient died during hospitalization\n",
    "- how many paitnet required vassopressor"
   ]
  },
  {
   "cell_type": "code",
   "execution_count": null,
   "metadata": {},
   "outputs": [],
   "source": [
    "# Create sub dfs\n",
    "hosp = hosp[['patient_id', 'hospitalization_id', 'admission_dttm', 'discharge_dttm', 'age_at_admission', 'discharge_category']].drop_duplicates()\n",
    "patient = patient[['patient_id','race_category', 'ethnicity_category', 'sex_category']].drop_duplicates()\n",
    "adt = adt[['hospitalization_id', 'in_dttm', 'out_dttm', 'location_category']].drop_duplicates()\n",
    "\n",
    "# Merge hospital and patient demographics\n",
    "merged_df = hosp.merge(patient, on='patient_id', how='left')\n",
    "print(\"Number of duplicates\", merged_df.duplicated(subset=['hospitalization_id', 'patient_id']).sum())\n",
    "\n",
    "# Get only ventilator\n",
    "vent = resp[resp['device_category'].eq('IMV')].drop_duplicates()\n",
    "\n",
    "# Get only vasopressors\n",
    "vasopressors = [\"norepinephrine\", \"epinephrine\", \"phenylephrine\", \"vasopressin\", \"dopamine\", \"angiotensin\"]\n",
    "med_vas = meds[meds['med_category'].isin(vasopressors)].drop_duplicates()\n",
    "\n",
    "# Initialize summary df\n",
    "df_summary_all = pd.DataFrame()\n",
    "\n",
    "# Year range\n",
    "year_start = 2018\n",
    "year_end = 2024"
   ]
  },
  {
   "cell_type": "code",
   "execution_count": null,
   "metadata": {},
   "outputs": [],
   "source": [
    "for y in range(year_start, year_end+1):\n",
    "    print(\"year:\", y)\n",
    "    # Filter hospitalizations for the year\n",
    "    df_sub = merged_df[merged_df['admission_dttm'].dt.year.eq(y)].copy()\n",
    "\n",
    "    # Calculate hospitalization days\n",
    "    df_sub['hospitalization_days'] = (df_sub['discharge_dttm'] - df_sub['admission_dttm']).dt.total_seconds() / (3600*24)\n",
    "\n",
    "    # Get hospitalization_ids for the year \n",
    "    hosp_id = df_sub.hospitalization_id.unique()\n",
    "    adt_sub = adt[adt['hospitalization_id'].isin(hosp_id)].copy()\n",
    "    vent_sub = vent[vent['hospitalization_id'].isin(hosp_id)].copy()\n",
    "    med_vas_sub = med_vas[med_vas['hospitalization_id'].isin(hosp_id)].copy()\n",
    "\n",
    "    # Filter patient had icu stay\n",
    "    icu_adt = adt_sub[adt_sub['location_category'] == 'icu'].copy()\n",
    "    icu_adt = icu_adt.drop_duplicates()\n",
    "    icu_hosp_id = icu_adt.hospitalization_id.unique()\n",
    "    df_icu = df_sub[df_sub['hospitalization_id'].isin(icu_hosp_id)].copy()\n",
    "\n",
    "    # Add total icu days\n",
    "    icu_adt['icu_days'] = (icu_adt['out_dttm'] - icu_adt['in_dttm']).dt.total_seconds() / (3600*24)\n",
    "    icu_days = icu_adt.groupby('hospitalization_id')['icu_days'].sum().reset_index()\n",
    "    df_icu = df_icu.merge(icu_days, on='hospitalization_id', how='left')\n",
    "\n",
    "    # Create death flag for patient died with hospitalization\n",
    "    df_icu['death_flag'] = df_icu['discharge_category'].eq('Expired').astype(int)\n",
    "\n",
    "    # Demographic summary\n",
    "    df_demo = df_icu[['hospitalization_id', 'hospitalization_days', 'icu_days','age_at_admission', \n",
    "                      'race_category', 'ethnicity_category', 'sex_category', 'death_flag']].drop_duplicates(subset='hospitalization_id')\n",
    "\n",
    "    # Add year\n",
    "    df_demo['year'] = y\n",
    "\n",
    "    # Add ventilator flag\n",
    "    vent_flag = vent_sub[['hospitalization_id']].drop_duplicates()\n",
    "    vent_flag['vent_flag'] = 1\n",
    "    df_demo = df_demo.merge(vent_flag, on='hospitalization_id', how='left')\n",
    "    df_demo['vent_flag'] = df_demo['vent_flag'].fillna(0)\n",
    "\n",
    "    # Add vasopressor flag\n",
    "    vas_flag = med_vas_sub[['hospitalization_id']].drop_duplicates()\n",
    "    vas_flag['vasopressor_flag'] = 1\n",
    "    df_demo = df_demo.merge(vas_flag, on='hospitalization_id', how='left')\n",
    "    df_demo['vasopressor_flag'] = df_demo['vasopressor_flag'].fillna(0)\n",
    "\n",
    "    # Combine into all year summary\n",
    "    df_summary_all = pd.concat([df_summary_all, df_demo], ignore_index=True)\n",
    "\n",
    "\n",
    "\n",
    "# Fill patient with missing demographic data with 'Unknown'\n",
    "df_summary_all['race_category'] = df_summary_all['race_category'].fillna('Unknown')\n",
    "df_summary_all['sex_category'] = df_summary_all['sex_category'].fillna('Unknown')\n",
    "df_summary_all['ethnicity_category'] = df_summary_all['ethnicity_category'].fillna('Unknown')"
   ]
  },
  {
   "cell_type": "markdown",
   "metadata": {},
   "source": [
    "### table one"
   ]
  },
  {
   "cell_type": "code",
   "execution_count": null,
   "metadata": {},
   "outputs": [],
   "source": [
    "categorical_cols = ['race_category', 'ethnicity_category', 'sex_category', 'death_flag', 'vent_flag', 'vasopressor_flag']\n",
    "numerical_cols = ['age_at_admission', 'hospitalization_days', 'icu_days']\n",
    "cols = [col for col in df_summary_all.columns if col not in ['hospitalization_id']]\n",
    "\n",
    "# Define the desired order\n",
    "race_order = [\n",
    "    'White',\n",
    "    'Black or African American',\n",
    "    'Asian',\n",
    "    'American Indian or Alaska Native',\n",
    "    'Native Hawaiian or Other Pacific Islander',\n",
    "    'Other',\n",
    "    'Unknown',\n",
    "]\n",
    "\n",
    "# Convert Race column to a categorical type with the specified order\n",
    "df_summary_all['race_category'] = pd.Categorical(\n",
    "    df_summary_all['race_category'],\n",
    "    categories=race_order,\n",
    "    ordered=True\n",
    ")\n",
    "\n",
    "# Convert boolean columns to Yes/No (can change or ignore this)\n",
    "boolean_order = ['Yes', 'No']\n",
    "flags = ['vent_flag', 'vasopressor_flag', 'death_flag']\n",
    "\n",
    "for flag in flags:\n",
    "    df_summary_all[flag] = df_summary_all[flag].map({1: 'Yes', 0: 'No'})\n",
    "    df_summary_all[flag] = pd.Categorical(df_summary_all[flag], categories=boolean_order, ordered=True)\n",
    "\n",
    "\n",
    "\n",
    "# Column rename\n",
    "rename_cols = {\n",
    "    'race_category': 'Race',\n",
    "    'ethnicity_category': 'Ethnicity',\n",
    "    'sex_category': 'Gender',\n",
    "    'age_at_admission': 'Age (years)',\n",
    "    'hospitalization_days': 'Hospitalization Days',\n",
    "    'icu_days': 'Total ICU Days',\n",
    "    'death_flag': 'Hospital Mortality',\n",
    "    'vent_flag': 'Received Ventilation During Admission',\n",
    "    'vasopressor_flag': 'Received Vasopressor During Admission'\n",
    "}\n",
    "\n",
    "\n",
    "tb1_summary = TableOne(\n",
    "    df_summary_all, \n",
    "    columns=cols, \n",
    "    categorical=categorical_cols, \n",
    "    nonnormal = numerical_cols,\n",
    "    groupby='year',\n",
    "    pval=False,\n",
    "    rename=rename_cols,\n",
    "    label_suffix=True)\n",
    "tb1_summary"
   ]
  },
  {
   "cell_type": "code",
   "execution_count": null,
   "metadata": {},
   "outputs": [],
   "source": [
    "# Prepare table for great-table\n",
    "table1_df = tb1_summary.tableone\n",
    "table1_df = table1_df.reset_index(drop=False)\n",
    "table1_df.columns = table1_df.columns.droplevel(0)\n",
    "\n",
    "# Drop missing columns\n",
    "table1_df.drop(columns=['Missing'], inplace=True)\n",
    "table1_df.columns.values[0:2] = ['Variable', 'Subcategory']\n",
    "\n",
    "# Remove unecessary rows\n",
    "idx = (\n",
    "    table1_df['Variable'].eq('Gender, n (%)') & table1_df['Subcategory'].isin(['Male', 'Unknown']) |        # just keep female percentage\n",
    "    table1_df['Variable'].eq('Hospital Mortality, n (%)') & table1_df['Subcategory'].isin(['No']) |\n",
    "    table1_df['Variable'].eq('Received Ventilation During Admission, n (%)') & table1_df['Subcategory'].isin(['No']) |\n",
    "    table1_df['Variable'].eq('Received Vasopressor During Admission, n (%)') & table1_df['Subcategory'].isin(['No'])\n",
    "    )\n",
    "table1_df = table1_df[~idx]\n",
    "\n",
    "\n",
    "# Move Variable to Subcategory where Subcategory is empty to fit great-table format\n",
    "variable_counts = table1_df['Variable'].value_counts()\n",
    "mask = mask = (table1_df['Subcategory'].isna() | table1_df['Subcategory'].eq('')) | (table1_df['Variable'].map(variable_counts) == 1) # copy value if only has one category\n",
    "table1_df.loc[mask, 'Subcategory'] = table1_df.loc[mask, 'Variable']\n",
    "table1_df.loc[mask, 'Variable'] = ''"
   ]
  },
  {
   "cell_type": "code",
   "execution_count": null,
   "metadata": {},
   "outputs": [],
   "source": [
    "# Create great-table\n",
    "gt = (\n",
    "    GT(table1_df)\n",
    "    .tab_header(title=\"ICU Patient Yearly Summary\", subtitle=f\"{year_start}-01-01 to {year_end}-12-31\")\n",
    "    .opt_horizontal_padding(scale=2)\n",
    "    .tab_stub(groupname_col=\"Variable\", rowname_col=\"Subcategory\",)\n",
    "    .opt_vertical_padding(scale=0.8)\n",
    "    # .tab_style(\n",
    "    #     style=[\n",
    "    #         style.text(size=10),\n",
    "    #     ],\n",
    "    #     locations=loc.stub()\n",
    "    # )\n",
    ")\n",
    "gt.show()\n",
    "\n",
    "# save table\n",
    "# gt.write_raw_html(\"../data/yearly_summary.html\")"
   ]
  }
 ],
 "metadata": {
  "kernelspec": {
   "display_name": "base",
   "language": "python",
   "name": "python3"
  },
  "language_info": {
   "codemirror_mode": {
    "name": "ipython",
    "version": 3
   },
   "file_extension": ".py",
   "mimetype": "text/x-python",
   "name": "python",
   "nbconvert_exporter": "python",
   "pygments_lexer": "ipython3",
   "version": "3.12.7"
  }
 },
 "nbformat": 4,
 "nbformat_minor": 2
}
